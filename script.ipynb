{
 "cells": [
  {
   "cell_type": "markdown",
   "metadata": {},
   "source": [
    "## Application of CNN on X-Rays\n",
    "\n",
    "This repository investigates the application of convolutional neural networks on x-ray images in order to properly diagnose the patient. The details of the dataset will be displayed within the notebook as we progress."
   ]
  },
  {
   "cell_type": "markdown",
   "metadata": {},
   "source": [
    "### Imports"
   ]
  },
  {
   "cell_type": "code",
   "execution_count": 1,
   "metadata": {},
   "outputs": [
    {
     "name": "stderr",
     "output_type": "stream",
     "text": [
      "Using TensorFlow backend.\n"
     ]
    }
   ],
   "source": [
    "import cv2\n",
    "import matplotlib.pylab as plt\n",
    "import numpy as np\n",
    "import pandas as pd\n",
    "from glob import glob\n",
    "from collections import Counter\n",
    "from sklearn.model_selection import train_test_split\n",
    "from tqdm import tqdm\n",
    "\n",
    "from keras.models import Sequential\n",
    "from keras.layers import Dense\n",
    "from keras.layers import Dropout\n",
    "from keras.layers import Flatten\n",
    "from keras.layers.convolutional import Convolution2D\n",
    "from keras.layers.convolutional import MaxPooling2D\n",
    "from keras.utils import np_utils"
   ]
  },
  {
   "cell_type": "markdown",
   "metadata": {},
   "source": [
    "### Load Data"
   ]
  },
  {
   "cell_type": "code",
   "execution_count": 2,
   "metadata": {},
   "outputs": [],
   "source": [
    "# image path \n",
    "images = glob('../images/*.png')\n",
    "\n",
    "# load labels\n",
    "labels = pd.read_csv('../sample_labels.csv')"
   ]
  },
  {
   "cell_type": "code",
   "execution_count": 3,
   "metadata": {},
   "outputs": [
    {
     "data": {
      "text/html": [
       "<div>\n",
       "<style scoped>\n",
       "    .dataframe tbody tr th:only-of-type {\n",
       "        vertical-align: middle;\n",
       "    }\n",
       "\n",
       "    .dataframe tbody tr th {\n",
       "        vertical-align: top;\n",
       "    }\n",
       "\n",
       "    .dataframe thead th {\n",
       "        text-align: right;\n",
       "    }\n",
       "</style>\n",
       "<table border=\"1\" class=\"dataframe\">\n",
       "  <thead>\n",
       "    <tr style=\"text-align: right;\">\n",
       "      <th></th>\n",
       "      <th>Image Index</th>\n",
       "      <th>Finding Labels</th>\n",
       "      <th>Follow-up #</th>\n",
       "      <th>Patient ID</th>\n",
       "      <th>Patient Age</th>\n",
       "      <th>Patient Gender</th>\n",
       "      <th>View Position</th>\n",
       "      <th>OriginalImageWidth</th>\n",
       "      <th>OriginalImageHeight</th>\n",
       "      <th>OriginalImagePixelSpacing_x</th>\n",
       "      <th>OriginalImagePixelSpacing_y</th>\n",
       "    </tr>\n",
       "  </thead>\n",
       "  <tbody>\n",
       "    <tr>\n",
       "      <th>0</th>\n",
       "      <td>00000013_005.png</td>\n",
       "      <td>Emphysema|Infiltration|Pleural_Thickening|Pneu...</td>\n",
       "      <td>5</td>\n",
       "      <td>13</td>\n",
       "      <td>060Y</td>\n",
       "      <td>M</td>\n",
       "      <td>AP</td>\n",
       "      <td>3056</td>\n",
       "      <td>2544</td>\n",
       "      <td>0.139</td>\n",
       "      <td>0.139</td>\n",
       "    </tr>\n",
       "    <tr>\n",
       "      <th>1</th>\n",
       "      <td>00000013_026.png</td>\n",
       "      <td>Cardiomegaly|Emphysema</td>\n",
       "      <td>26</td>\n",
       "      <td>13</td>\n",
       "      <td>057Y</td>\n",
       "      <td>M</td>\n",
       "      <td>AP</td>\n",
       "      <td>2500</td>\n",
       "      <td>2048</td>\n",
       "      <td>0.168</td>\n",
       "      <td>0.168</td>\n",
       "    </tr>\n",
       "    <tr>\n",
       "      <th>2</th>\n",
       "      <td>00000017_001.png</td>\n",
       "      <td>No Finding</td>\n",
       "      <td>1</td>\n",
       "      <td>17</td>\n",
       "      <td>077Y</td>\n",
       "      <td>M</td>\n",
       "      <td>AP</td>\n",
       "      <td>2500</td>\n",
       "      <td>2048</td>\n",
       "      <td>0.168</td>\n",
       "      <td>0.168</td>\n",
       "    </tr>\n",
       "    <tr>\n",
       "      <th>3</th>\n",
       "      <td>00000030_001.png</td>\n",
       "      <td>Atelectasis</td>\n",
       "      <td>1</td>\n",
       "      <td>30</td>\n",
       "      <td>079Y</td>\n",
       "      <td>M</td>\n",
       "      <td>PA</td>\n",
       "      <td>2992</td>\n",
       "      <td>2991</td>\n",
       "      <td>0.143</td>\n",
       "      <td>0.143</td>\n",
       "    </tr>\n",
       "    <tr>\n",
       "      <th>4</th>\n",
       "      <td>00000032_001.png</td>\n",
       "      <td>Cardiomegaly|Edema|Effusion</td>\n",
       "      <td>1</td>\n",
       "      <td>32</td>\n",
       "      <td>055Y</td>\n",
       "      <td>F</td>\n",
       "      <td>AP</td>\n",
       "      <td>2500</td>\n",
       "      <td>2048</td>\n",
       "      <td>0.168</td>\n",
       "      <td>0.168</td>\n",
       "    </tr>\n",
       "  </tbody>\n",
       "</table>\n",
       "</div>"
      ],
      "text/plain": [
       "        Image Index                                     Finding Labels  \\\n",
       "0  00000013_005.png  Emphysema|Infiltration|Pleural_Thickening|Pneu...   \n",
       "1  00000013_026.png                             Cardiomegaly|Emphysema   \n",
       "2  00000017_001.png                                         No Finding   \n",
       "3  00000030_001.png                                        Atelectasis   \n",
       "4  00000032_001.png                        Cardiomegaly|Edema|Effusion   \n",
       "\n",
       "   Follow-up #  Patient ID Patient Age Patient Gender View Position  \\\n",
       "0            5          13        060Y              M            AP   \n",
       "1           26          13        057Y              M            AP   \n",
       "2            1          17        077Y              M            AP   \n",
       "3            1          30        079Y              M            PA   \n",
       "4            1          32        055Y              F            AP   \n",
       "\n",
       "   OriginalImageWidth  OriginalImageHeight  OriginalImagePixelSpacing_x  \\\n",
       "0                3056                 2544                        0.139   \n",
       "1                2500                 2048                        0.168   \n",
       "2                2500                 2048                        0.168   \n",
       "3                2992                 2991                        0.143   \n",
       "4                2500                 2048                        0.168   \n",
       "\n",
       "   OriginalImagePixelSpacing_y  \n",
       "0                        0.139  \n",
       "1                        0.168  \n",
       "2                        0.168  \n",
       "3                        0.143  \n",
       "4                        0.168  "
      ]
     },
     "execution_count": 3,
     "metadata": {},
     "output_type": "execute_result"
    }
   ],
   "source": [
    "labels.head(5)"
   ]
  },
  {
   "cell_type": "markdown",
   "metadata": {},
   "source": [
    "### Exploration\n",
    "Discover what are the possible diseases present in the dataset."
   ]
  },
  {
   "cell_type": "code",
   "execution_count": 4,
   "metadata": {},
   "outputs": [],
   "source": [
    "# split the diagnosis then visualize its histogram\n",
    "diseases = list(labels['Finding Labels'])\n",
    "diseases = [x for dis in diseases for x in dis.split(\"|\")]"
   ]
  },
  {
   "cell_type": "code",
   "execution_count": 5,
   "metadata": {},
   "outputs": [
    {
     "data": {
      "image/png": "[encoded data removed]",
      "text/plain": [
       "<Figure size 432x576 with 1 Axes>"
      ]
     },
     "metadata": {
      "needs_background": "light"
     },
     "output_type": "display_data"
    }
   ],
   "source": [
    "% matplotlib inline\n",
    "\n",
    "keys, values = zip(*Counter(diseases).items())\n",
    "\n",
    "indexes = np.arange(len(keys))\n",
    "\n",
    "fig = plt.figure(figsize=(6,8))\n",
    "plt.title('Frequency of Diseases')\n",
    "plt.barh(indexes, values, color='#247ba0', edgecolor='black')\n",
    "plt.yticks(indexes, keys)\n",
    "plt.show()"
   ]
  },
  {
   "cell_type": "markdown",
   "metadata": {},
   "source": [
    "### Data Preperation\n",
    "For this purpose, I will relabel tha data to a binary class. Class 0 represents images with `No Finding` and class 1 are the rest of the images. In other words, I formulated the problem to identify whether the x-ray image has a finding or not."
   ]
  },
  {
   "cell_type": "code",
   "execution_count": 6,
   "metadata": {},
   "outputs": [
    {
     "name": "stderr",
     "output_type": "stream",
     "text": [
      "100%|██████████| 5606/5606 [01:21<00:00, 68.79it/s]\n"
     ]
    }
   ],
   "source": [
    "disease = \"No Finding\"\n",
    "\n",
    "x = [] # images as arrays\n",
    "y = [] # labels\n",
    "\n",
    "# resizing images\n",
    "WIDTH = 128\n",
    "HEIGHT = 128\n",
    "\n",
    "for img in tqdm(images):\n",
    "    path = img.split('/')[-1]\n",
    "    finding = labels[\"Finding Labels\"][labels[\"Image Index\"] == path].values[0]\n",
    "\n",
    "    # read and resize image\n",
    "    full_size_image = cv2.imread(img)\n",
    "    x.append(cv2.resize(full_size_image, (WIDTH, HEIGHT), interpolation=cv2.INTER_CUBIC))\n",
    "    \n",
    "    # label 'no finding'\n",
    "    if disease in finding:\n",
    "        y.append(0)\n",
    "\n",
    "    # label 'has finding'\n",
    "    else:\n",
    "        y.append(1)"
   ]
  },
  {
   "cell_type": "markdown",
   "metadata": {},
   "source": [
    "### Split Data\n",
    "\n",
    "* training: 80%\n",
    "* testing: 20%"
   ]
  },
  {
   "cell_type": "code",
   "execution_count": 7,
   "metadata": {},
   "outputs": [],
   "source": [
    "X_train, X_test, y_train, y_test = train_test_split(x,y, test_size=0.2, random_state=1, shuffle=True)"
   ]
  },
  {
   "cell_type": "code",
   "execution_count": 8,
   "metadata": {},
   "outputs": [
    {
     "name": "stdout",
     "output_type": "stream",
     "text": [
      "Data normalized.\n"
     ]
    }
   ],
   "source": [
    "# normalize inputs\n",
    "X_train = np.array(X_train).astype('float32')\n",
    "X_test = np.array(X_test).astype('float32')\n",
    "X_train = X_train / 255.0\n",
    "X_test = X_test / 255.0\n",
    "\n",
    "# one hot encode outputs\n",
    "y_train = np.array(y_train)\n",
    "y_test = np.array(y_test)\n",
    "y_train = np_utils.to_categorical(y_train)\n",
    "y_test = np_utils.to_categorical(y_test)\n",
    "num_classes = y_test.shape[1]\n",
    "print(\"Data normalized.\")"
   ]
  },
  {
   "cell_type": "code",
   "execution_count": 9,
   "metadata": {},
   "outputs": [
    {
     "name": "stdout",
     "output_type": "stream",
     "text": [
      "(4484, 128, 128, 3)\n",
      "(1122, 128, 128, 3)\n"
     ]
    }
   ],
   "source": [
    "# print training & test examples\n",
    "print(np.array(X_train).shape)\n",
    "print(np.array(X_test).shape)"
   ]
  },
  {
   "cell_type": "markdown",
   "metadata": {},
   "source": [
    "### Construct CNN Architecture"
   ]
  },
  {
   "cell_type": "code",
   "execution_count": 10,
   "metadata": {},
   "outputs": [
    {
     "name": "stdout",
     "output_type": "stream",
     "text": [
      "_________________________________________________________________\n",
      "Layer (type)                 Output Shape              Param #   \n",
      "=================================================================\n",
      "conv2d_1 (Conv2D)            (None, 43, 43, 32)        896       \n",
      "_________________________________________________________________\n",
      "dropout_1 (Dropout)          (None, 43, 43, 32)        0         \n",
      "_________________________________________________________________\n",
      "conv2d_2 (Conv2D)            (None, 15, 15, 32)        9248      \n",
      "_________________________________________________________________\n",
      "max_pooling2d_1 (MaxPooling2 (None, 7, 7, 32)          0         \n",
      "_________________________________________________________________\n",
      "flatten_1 (Flatten)          (None, 1568)              0         \n",
      "_________________________________________________________________\n",
      "dense_1 (Dense)              (None, 512)               803328    \n",
      "_________________________________________________________________\n",
      "dropout_2 (Dropout)          (None, 512)               0         \n",
      "_________________________________________________________________\n",
      "dense_2 (Dense)              (None, 2)                 1026      \n",
      "=================================================================\n",
      "Total params: 814,498\n",
      "Trainable params: 814,498\n",
      "Non-trainable params: 0\n",
      "_________________________________________________________________\n",
      "None\n"
     ]
    }
   ],
   "source": [
    " # create the model\n",
    "model = Sequential()\n",
    "model.add(Convolution2D(32, 3, strides=3, input_shape=(128, 128, 3), padding='same', activation='relu'))\n",
    "model.add(Dropout(0.2))\n",
    "model.add(Convolution2D(32, 3, strides=3, activation='relu', padding='same'))\n",
    "model.add(MaxPooling2D(pool_size=(2, 2)))\n",
    "model.add(Flatten())\n",
    "model.add(Dense(512, activation='relu'))\n",
    "model.add(Dropout(0.5))\n",
    "model.add(Dense(num_classes, activation='softmax'))\n",
    "\n",
    "# compile model\n",
    "epochs = 25\n",
    "model.compile(loss='binary_crossentropy', optimizer='adam', metrics=['accuracy'])\n",
    "print(model.summary())"
   ]
  },
  {
   "cell_type": "code",
   "execution_count": 11,
   "metadata": {},
   "outputs": [
    {
     "name": "stderr",
     "output_type": "stream",
     "text": [
      "/anaconda3/lib/python3.5/site-packages/ipykernel_launcher.py:2: UserWarning: The `nb_epoch` argument in `fit` has been renamed `epochs`.\n",
      "  \n"
     ]
    },
    {
     "name": "stdout",
     "output_type": "stream",
     "text": [
      "Train on 4484 samples, validate on 1122 samples\n",
      "Epoch 1/25\n",
      "4484/4484 [==============================] - 6s 1ms/step - loss: 0.6865 - acc: 0.5437 - val_loss: 0.6750 - val_acc: 0.5597\n",
      "Epoch 2/25\n",
      "4484/4484 [==============================] - 5s 1ms/step - loss: 0.6637 - acc: 0.6046 - val_loss: 0.6736 - val_acc: 0.5882\n",
      "Epoch 3/25\n",
      "4484/4484 [==============================] - 5s 1ms/step - loss: 0.6562 - acc: 0.6184 - val_loss: 0.6662 - val_acc: 0.6176\n",
      "Epoch 4/25\n",
      "4484/4484 [==============================] - 5s 1ms/step - loss: 0.6571 - acc: 0.6171 - val_loss: 0.6687 - val_acc: 0.5856\n",
      "Epoch 5/25\n",
      "4484/4484 [==============================] - 5s 1ms/step - loss: 0.6603 - acc: 0.6122 - val_loss: 0.6601 - val_acc: 0.6052\n",
      "Epoch 6/25\n",
      "4484/4484 [==============================] - 5s 1ms/step - loss: 0.6518 - acc: 0.6202 - val_loss: 0.6585 - val_acc: 0.5989\n",
      "Epoch 7/25\n",
      "4484/4484 [==============================] - 5s 1ms/step - loss: 0.6375 - acc: 0.6340 - val_loss: 0.6535 - val_acc: 0.6248\n",
      "Epoch 8/25\n",
      "4484/4484 [==============================] - 5s 1ms/step - loss: 0.6332 - acc: 0.6445 - val_loss: 0.6549 - val_acc: 0.6266\n",
      "Epoch 9/25\n",
      "4484/4484 [==============================] - 5s 1ms/step - loss: 0.6229 - acc: 0.6525 - val_loss: 0.6721 - val_acc: 0.6150\n",
      "Epoch 10/25\n",
      "4484/4484 [==============================] - 5s 1ms/step - loss: 0.6166 - acc: 0.6617 - val_loss: 0.6578 - val_acc: 0.6230\n",
      "Epoch 11/25\n",
      "4484/4484 [==============================] - 5s 1ms/step - loss: 0.5969 - acc: 0.6831 - val_loss: 0.6738 - val_acc: 0.5980\n",
      "Epoch 12/25\n",
      "4484/4484 [==============================] - 5s 1ms/step - loss: 0.5912 - acc: 0.6784 - val_loss: 0.6777 - val_acc: 0.5989\n",
      "Epoch 13/25\n",
      "4484/4484 [==============================] - 5s 1ms/step - loss: 0.5825 - acc: 0.6853 - val_loss: 0.6796 - val_acc: 0.6212\n",
      "Epoch 14/25\n",
      "4484/4484 [==============================] - 6s 1ms/step - loss: 0.5686 - acc: 0.6905 - val_loss: 0.6971 - val_acc: 0.6168\n",
      "Epoch 15/25\n",
      "4484/4484 [==============================] - 5s 1ms/step - loss: 0.5520 - acc: 0.7032 - val_loss: 0.7146 - val_acc: 0.6105\n",
      "Epoch 16/25\n",
      "4484/4484 [==============================] - 5s 1ms/step - loss: 0.5450 - acc: 0.7226 - val_loss: 0.7172 - val_acc: 0.6096\n",
      "Epoch 17/25\n",
      "4484/4484 [==============================] - 5s 1ms/step - loss: 0.5289 - acc: 0.7215 - val_loss: 0.7652 - val_acc: 0.5927\n",
      "Epoch 18/25\n",
      "4484/4484 [==============================] - 5s 1ms/step - loss: 0.5159 - acc: 0.7315 - val_loss: 0.7532 - val_acc: 0.5927\n",
      "Epoch 19/25\n",
      "4484/4484 [==============================] - 5s 1ms/step - loss: 0.4917 - acc: 0.7442 - val_loss: 0.7972 - val_acc: 0.5882\n",
      "Epoch 20/25\n",
      "4484/4484 [==============================] - 5s 1ms/step - loss: 0.4835 - acc: 0.7603 - val_loss: 0.7685 - val_acc: 0.6025\n",
      "Epoch 21/25\n",
      "4484/4484 [==============================] - 5s 1ms/step - loss: 0.4655 - acc: 0.7701 - val_loss: 0.8298 - val_acc: 0.5936\n",
      "Epoch 22/25\n",
      "4484/4484 [==============================] - 5s 1ms/step - loss: 0.4471 - acc: 0.7785 - val_loss: 0.8658 - val_acc: 0.5829\n",
      "Epoch 23/25\n",
      "4484/4484 [==============================] - 5s 1ms/step - loss: 0.4291 - acc: 0.7948 - val_loss: 0.8893 - val_acc: 0.5989\n",
      "Epoch 24/25\n",
      "4484/4484 [==============================] - 5s 1ms/step - loss: 0.4084 - acc: 0.8051 - val_loss: 0.9496 - val_acc: 0.5856\n",
      "Epoch 25/25\n",
      "4484/4484 [==============================] - 5s 1ms/step - loss: 0.4038 - acc: 0.8058 - val_loss: 0.9207 - val_acc: 0.5998\n",
      "Accuracy: 59.98%\n"
     ]
    }
   ],
   "source": [
    "# fit and run our model\n",
    "model.fit(X_train, y_train, validation_data=(X_test, y_test), nb_epoch=epochs, batch_size=64)\n",
    "\n",
    "# final evaluation of the model\n",
    "scores = model.evaluate(X_test, y_test, verbose=0)\n",
    "print(\"Accuracy: %.2f%%\" % (scores[1]*100))"
   ]
  }
 ],
 "metadata": {
  "kernelspec": {
   "display_name": "Python 3",
   "language": "python",
   "name": "python3"
  },
  "language_info": {
   "codemirror_mode": {
    "name": "ipython",
    "version": 3
   },
   "file_extension": ".py",
   "mimetype": "text/x-python",
   "name": "python",
   "nbconvert_exporter": "python",
   "pygments_lexer": "ipython3",
   "version": "3.5.5"
  }
 },
 "nbformat": 4,
 "nbformat_minor": 2
}
