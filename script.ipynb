{
 "cells": [
  {
   "cell_type": "markdown",
   "metadata": {},
   "source": [
    "## Application of CNN on X-Rays\n",
    "\n",
    "This repository investigates the application of convolutional neural networks on x-ray images in order to properly diagnose the patient. The details of the dataset will be displayed within the notebook as we progress."
   ]
  },
  {
   "cell_type": "markdown",
   "metadata": {},
   "source": [
    "### Imports"
   ]
  },
  {
   "cell_type": "code",
   "execution_count": 10,
   "metadata": {},
   "outputs": [],
   "source": [
    "import cv2\n",
    "import matplotlib.pylab as plt\n",
    "import numpy as np\n",
    "import pandas as pd\n",
    "from glob import glob\n",
    "from collections import Counter\n",
    "from sklearn.model_selection import train_test_split\n",
    "from tqdm import tqdm\n",
    "\n",
    "from keras.models import Sequential\n",
    "from keras.layers import Dense\n",
    "from keras.layers import Dropout\n",
    "from keras.layers import Flatten\n",
    "from keras.layers.convolutional import Convolution2D\n",
    "from keras.layers.convolutional import MaxPooling2D\n",
    "from keras.utils import np_utils"
   ]
  },
  {
   "cell_type": "markdown",
   "metadata": {},
   "source": [
    "### Load Data"
   ]
  },
  {
   "cell_type": "code",
   "execution_count": 2,
   "metadata": {},
   "outputs": [],
   "source": [
    "# image path \n",
    "images = glob('../images/*.png')\n",
    "\n",
    "# load labels\n",
    "labels = pd.read_csv('../sample_labels.csv')"
   ]
  },
  {
   "cell_type": "code",
   "execution_count": 3,
   "metadata": {},
   "outputs": [
    {
     "data": {
      "text/html": [
       "<div>\n",
       "<style scoped>\n",
       "    .dataframe tbody tr th:only-of-type {\n",
       "        vertical-align: middle;\n",
       "    }\n",
       "\n",
       "    .dataframe tbody tr th {\n",
       "        vertical-align: top;\n",
       "    }\n",
       "\n",
       "    .dataframe thead th {\n",
       "        text-align: right;\n",
       "    }\n",
       "</style>\n",
       "<table border=\"1\" class=\"dataframe\">\n",
       "  <thead>\n",
       "    <tr style=\"text-align: right;\">\n",
       "      <th></th>\n",
       "      <th>Image Index</th>\n",
       "      <th>Finding Labels</th>\n",
       "      <th>Follow-up #</th>\n",
       "      <th>Patient ID</th>\n",
       "      <th>Patient Age</th>\n",
       "      <th>Patient Gender</th>\n",
       "      <th>View Position</th>\n",
       "      <th>OriginalImageWidth</th>\n",
       "      <th>OriginalImageHeight</th>\n",
       "      <th>OriginalImagePixelSpacing_x</th>\n",
       "      <th>OriginalImagePixelSpacing_y</th>\n",
       "    </tr>\n",
       "  </thead>\n",
       "  <tbody>\n",
       "    <tr>\n",
       "      <th>0</th>\n",
       "      <td>00000013_005.png</td>\n",
       "      <td>Emphysema|Infiltration|Pleural_Thickening|Pneu...</td>\n",
       "      <td>5</td>\n",
       "      <td>13</td>\n",
       "      <td>060Y</td>\n",
       "      <td>M</td>\n",
       "      <td>AP</td>\n",
       "      <td>3056</td>\n",
       "      <td>2544</td>\n",
       "      <td>0.139</td>\n",
       "      <td>0.139</td>\n",
       "    </tr>\n",
       "    <tr>\n",
       "      <th>1</th>\n",
       "      <td>00000013_026.png</td>\n",
       "      <td>Cardiomegaly|Emphysema</td>\n",
       "      <td>26</td>\n",
       "      <td>13</td>\n",
       "      <td>057Y</td>\n",
       "      <td>M</td>\n",
       "      <td>AP</td>\n",
       "      <td>2500</td>\n",
       "      <td>2048</td>\n",
       "      <td>0.168</td>\n",
       "      <td>0.168</td>\n",
       "    </tr>\n",
       "    <tr>\n",
       "      <th>2</th>\n",
       "      <td>00000017_001.png</td>\n",
       "      <td>No Finding</td>\n",
       "      <td>1</td>\n",
       "      <td>17</td>\n",
       "      <td>077Y</td>\n",
       "      <td>M</td>\n",
       "      <td>AP</td>\n",
       "      <td>2500</td>\n",
       "      <td>2048</td>\n",
       "      <td>0.168</td>\n",
       "      <td>0.168</td>\n",
       "    </tr>\n",
       "    <tr>\n",
       "      <th>3</th>\n",
       "      <td>00000030_001.png</td>\n",
       "      <td>Atelectasis</td>\n",
       "      <td>1</td>\n",
       "      <td>30</td>\n",
       "      <td>079Y</td>\n",
       "      <td>M</td>\n",
       "      <td>PA</td>\n",
       "      <td>2992</td>\n",
       "      <td>2991</td>\n",
       "      <td>0.143</td>\n",
       "      <td>0.143</td>\n",
       "    </tr>\n",
       "    <tr>\n",
       "      <th>4</th>\n",
       "      <td>00000032_001.png</td>\n",
       "      <td>Cardiomegaly|Edema|Effusion</td>\n",
       "      <td>1</td>\n",
       "      <td>32</td>\n",
       "      <td>055Y</td>\n",
       "      <td>F</td>\n",
       "      <td>AP</td>\n",
       "      <td>2500</td>\n",
       "      <td>2048</td>\n",
       "      <td>0.168</td>\n",
       "      <td>0.168</td>\n",
       "    </tr>\n",
       "  </tbody>\n",
       "</table>\n",
       "</div>"
      ],
      "text/plain": [
       "        Image Index                                     Finding Labels  \\\n",
       "0  00000013_005.png  Emphysema|Infiltration|Pleural_Thickening|Pneu...   \n",
       "1  00000013_026.png                             Cardiomegaly|Emphysema   \n",
       "2  00000017_001.png                                         No Finding   \n",
       "3  00000030_001.png                                        Atelectasis   \n",
       "4  00000032_001.png                        Cardiomegaly|Edema|Effusion   \n",
       "\n",
       "   Follow-up #  Patient ID Patient Age Patient Gender View Position  \\\n",
       "0            5          13        060Y              M            AP   \n",
       "1           26          13        057Y              M            AP   \n",
       "2            1          17        077Y              M            AP   \n",
       "3            1          30        079Y              M            PA   \n",
       "4            1          32        055Y              F            AP   \n",
       "\n",
       "   OriginalImageWidth  OriginalImageHeight  OriginalImagePixelSpacing_x  \\\n",
       "0                3056                 2544                        0.139   \n",
       "1                2500                 2048                        0.168   \n",
       "2                2500                 2048                        0.168   \n",
       "3                2992                 2991                        0.143   \n",
       "4                2500                 2048                        0.168   \n",
       "\n",
       "   OriginalImagePixelSpacing_y  \n",
       "0                        0.139  \n",
       "1                        0.168  \n",
       "2                        0.168  \n",
       "3                        0.143  \n",
       "4                        0.168  "
      ]
     },
     "execution_count": 3,
     "metadata": {},
     "output_type": "execute_result"
    }
   ],
   "source": [
    "labels.head(5)"
   ]
  },
  {
   "cell_type": "markdown",
   "metadata": {},
   "source": [
    "### Exploration\n",
    "Discover what are the possible diseases present in the dataset."
   ]
  },
  {
   "cell_type": "code",
   "execution_count": 4,
   "metadata": {},
   "outputs": [],
   "source": [
    "# split the diagnosis then visualize its histogram\n",
    "diseases = list(labels['Finding Labels'])\n",
    "diseases = [x for dis in diseases for x in dis.split(\"|\")]"
   ]
  },
  {
   "cell_type": "code",
   "execution_count": 5,
   "metadata": {},
   "outputs": [
    {
     "data": {
      "image/png": "[encoded data removed]",
      "text/plain": [
       "<Figure size 432x576 with 1 Axes>"
      ]
     },
     "metadata": {
      "needs_background": "light"
     },
     "output_type": "display_data"
    }
   ],
   "source": [
    "% matplotlib inline\n",
    "\n",
    "keys, values = zip(*Counter(diseases).items())\n",
    "\n",
    "indexes = np.arange(len(keys))\n",
    "\n",
    "fig = plt.figure(figsize=(6,8))\n",
    "plt.title('Frequency of Diseases')\n",
    "plt.barh(indexes, values, color='#247ba0', edgecolor='black')\n",
    "plt.yticks(indexes, keys)\n",
    "plt.show()"
   ]
  },
  {
   "cell_type": "markdown",
   "metadata": {},
   "source": [
    "### Data Preperation\n",
    "For this purpose, I will relabel tha data to a binary class. Class 0 represents images with `No Finding` and class 1 are the rest of the images. In other words, I formulated the problem to identify whether the x-ray image has a finding or not."
   ]
  },
  {
   "cell_type": "code",
   "execution_count": 6,
   "metadata": {},
   "outputs": [
    {
     "name": "stderr",
     "output_type": "stream",
     "text": [
      "100%|██████████| 5606/5606 [04:30<00:00, 20.73it/s]  \n"
     ]
    }
   ],
   "source": [
    "disease = \"No Finding\"\n",
    "\n",
    "x = [] # images as arrays\n",
    "y = [] # labels\n",
    "\n",
    "# resizing images\n",
    "WIDTH = 128\n",
    "HEIGHT = 128\n",
    "\n",
    "for img in tqdm(images):\n",
    "    path = img.split('/')[-1]\n",
    "    finding = labels[\"Finding Labels\"][labels[\"Image Index\"] == path].values[0]\n",
    "\n",
    "    # read and resize image\n",
    "    full_size_image = cv2.imread(img)\n",
    "    try:\n",
    "        x.append(cv2.resize(full_size_image, (WIDTH, HEIGHT), interpolation=cv2.INTER_CUBIC))\n",
    "    except:\n",
    "        continue\n",
    "\n",
    "    # label 'no finding'\n",
    "    if disease in finding:\n",
    "        finding = 0\n",
    "        y.append(finding)\n",
    "\n",
    "    # label 'has finding'\n",
    "    else:\n",
    "        finding = 1\n",
    "        y.append(finding)"
   ]
  },
  {
   "cell_type": "markdown",
   "metadata": {},
   "source": [
    "### Split Data\n",
    "\n",
    "* training: 80%\n",
    "* testing: 20%"
   ]
  },
  {
   "cell_type": "code",
   "execution_count": 7,
   "metadata": {},
   "outputs": [],
   "source": [
    "X_train, X_test, y_train, y_test = train_test_split(x,y, test_size=0.2, random_state=1, shuffle=True)"
   ]
  },
  {
   "cell_type": "code",
   "execution_count": 11,
   "metadata": {},
   "outputs": [
    {
     "name": "stdout",
     "output_type": "stream",
     "text": [
      "Data normalized and hot encoded.\n"
     ]
    }
   ],
   "source": [
    "# normalize inputs from 0-255 and 0.0-1.0\n",
    "X_train = np.array(X_train).astype('float32')\n",
    "X_test = np.array(X_test).astype('float32')\n",
    "X_train = X_train / 255.0\n",
    "X_test = X_test / 255.0\n",
    "\n",
    "# one hot encode outputs\n",
    "y_train = np.array(y_train)\n",
    "y_test = np.array(y_test)\n",
    "y_train = np_utils.to_categorical(y_train)\n",
    "y_test = np_utils.to_categorical(y_test)\n",
    "num_classes = y_test.shape[1]\n",
    "print(\"Data normalized and hot encoded.\")"
   ]
  },
  {
   "cell_type": "code",
   "execution_count": 8,
   "metadata": {},
   "outputs": [
    {
     "name": "stdout",
     "output_type": "stream",
     "text": [
      "(4484, 128, 128, 3)\n",
      "(1122, 128, 128, 3)\n"
     ]
    }
   ],
   "source": [
    "# print training & test examples\n",
    "print(np.array(X_train).shape)\n",
    "print(np.array(X_test).shape)"
   ]
  },
  {
   "cell_type": "markdown",
   "metadata": {},
   "source": [
    "### Construct CNN Architecture"
   ]
  },
  {
   "cell_type": "code",
   "execution_count": 22,
   "metadata": {},
   "outputs": [
    {
     "name": "stdout",
     "output_type": "stream",
     "text": [
      "_________________________________________________________________\n",
      "Layer (type)                 Output Shape              Param #   \n",
      "=================================================================\n",
      "conv2d_14 (Conv2D)           (None, 43, 43, 32)        896       \n",
      "_________________________________________________________________\n",
      "dropout_13 (Dropout)         (None, 43, 43, 32)        0         \n",
      "_________________________________________________________________\n",
      "conv2d_15 (Conv2D)           (None, 15, 15, 32)        9248      \n",
      "_________________________________________________________________\n",
      "max_pooling2d_9 (MaxPooling2 (None, 7, 7, 32)          0         \n",
      "_________________________________________________________________\n",
      "flatten_7 (Flatten)          (None, 1568)              0         \n",
      "_________________________________________________________________\n",
      "dense_13 (Dense)             (None, 512)               803328    \n",
      "_________________________________________________________________\n",
      "dropout_14 (Dropout)         (None, 512)               0         \n",
      "_________________________________________________________________\n",
      "dense_14 (Dense)             (None, 2)                 1026      \n",
      "=================================================================\n",
      "Total params: 814,498\n",
      "Trainable params: 814,498\n",
      "Non-trainable params: 0\n",
      "_________________________________________________________________\n",
      "None\n"
     ]
    }
   ],
   "source": [
    " # create the model\n",
    "model = Sequential()\n",
    "model.add(Convolution2D(32, 3, strides=3, input_shape=(128, 128, 3), padding='same', activation='relu'))\n",
    "model.add(Dropout(0.2))\n",
    "model.add(Convolution2D(32, 3, strides=3, activation='relu', padding='same'))\n",
    "model.add(MaxPooling2D(pool_size=(2, 2)))\n",
    "model.add(Flatten())\n",
    "model.add(Dense(512, activation='relu'))\n",
    "model.add(Dropout(0.5))\n",
    "model.add(Dense(num_classes, activation='softmax'))\n",
    "\n",
    "# compile model\n",
    "epochs = 25\n",
    "model.compile(loss='binary_crossentropy', optimizer='adam', metrics=['accuracy'])\n",
    "print(model.summary())"
   ]
  },
  {
   "cell_type": "code",
   "execution_count": 23,
   "metadata": {},
   "outputs": [
    {
     "name": "stderr",
     "output_type": "stream",
     "text": [
      "/anaconda3/lib/python3.5/site-packages/ipykernel_launcher.py:2: UserWarning: The `nb_epoch` argument in `fit` has been renamed `epochs`.\n",
      "  \n"
     ]
    },
    {
     "name": "stdout",
     "output_type": "stream",
     "text": [
      "Train on 4484 samples, validate on 1122 samples\n",
      "Epoch 1/25\n",
      "4484/4484 [==============================] - 6s 1ms/step - loss: 0.7060 - acc: 0.5314 - val_loss: 0.6846 - val_acc: 0.5989\n",
      "Epoch 2/25\n",
      "4484/4484 [==============================] - 5s 1ms/step - loss: 0.6758 - acc: 0.5747 - val_loss: 0.6756 - val_acc: 0.5677\n",
      "Epoch 3/25\n",
      "4484/4484 [==============================] - 5s 1ms/step - loss: 0.6621 - acc: 0.6082 - val_loss: 0.6610 - val_acc: 0.6087\n",
      "Epoch 4/25\n",
      "4484/4484 [==============================] - 5s 1ms/step - loss: 0.6574 - acc: 0.6140 - val_loss: 0.6619 - val_acc: 0.5838\n",
      "Epoch 5/25\n",
      "4484/4484 [==============================] - 5s 1ms/step - loss: 0.6522 - acc: 0.6276 - val_loss: 0.6636 - val_acc: 0.6212\n",
      "Epoch 6/25\n",
      "4484/4484 [==============================] - 5s 1ms/step - loss: 0.6458 - acc: 0.6325 - val_loss: 0.6552 - val_acc: 0.6337\n",
      "Epoch 7/25\n",
      "4484/4484 [==============================] - 5s 1ms/step - loss: 0.6449 - acc: 0.6347 - val_loss: 0.6583 - val_acc: 0.6283\n",
      "Epoch 8/25\n",
      "4484/4484 [==============================] - 5s 1ms/step - loss: 0.6307 - acc: 0.6490 - val_loss: 0.6615 - val_acc: 0.6203\n",
      "Epoch 9/25\n",
      "4484/4484 [==============================] - 5s 1ms/step - loss: 0.6246 - acc: 0.6521 - val_loss: 0.6529 - val_acc: 0.6257\n",
      "Epoch 10/25\n",
      "4484/4484 [==============================] - 5s 1ms/step - loss: 0.6151 - acc: 0.6577 - val_loss: 0.6581 - val_acc: 0.6159\n",
      "Epoch 11/25\n",
      "4484/4484 [==============================] - 5s 1ms/step - loss: 0.6041 - acc: 0.6711 - val_loss: 0.6817 - val_acc: 0.5722\n",
      "Epoch 12/25\n",
      "4484/4484 [==============================] - 5s 1ms/step - loss: 0.5955 - acc: 0.6798 - val_loss: 0.6598 - val_acc: 0.6212\n",
      "Epoch 13/25\n",
      "4484/4484 [==============================] - 5s 1ms/step - loss: 0.5735 - acc: 0.6940 - val_loss: 0.6779 - val_acc: 0.6052\n",
      "Epoch 14/25\n",
      "4484/4484 [==============================] - 5s 1ms/step - loss: 0.5704 - acc: 0.6920 - val_loss: 0.6909 - val_acc: 0.5945\n",
      "Epoch 15/25\n",
      "4484/4484 [==============================] - 5s 1ms/step - loss: 0.5531 - acc: 0.7070 - val_loss: 0.6836 - val_acc: 0.6052\n",
      "Epoch 16/25\n",
      "4484/4484 [==============================] - 6s 1ms/step - loss: 0.5383 - acc: 0.7215 - val_loss: 0.7041 - val_acc: 0.6087\n",
      "Epoch 17/25\n",
      "4484/4484 [==============================] - 6s 1ms/step - loss: 0.5235 - acc: 0.7239 - val_loss: 0.7111 - val_acc: 0.6159\n",
      "Epoch 18/25\n",
      "4484/4484 [==============================] - 6s 1ms/step - loss: 0.5133 - acc: 0.7382 - val_loss: 0.7380 - val_acc: 0.6159\n",
      "Epoch 19/25\n",
      "4484/4484 [==============================] - 5s 1ms/step - loss: 0.4999 - acc: 0.7453 - val_loss: 0.7414 - val_acc: 0.6212\n",
      "Epoch 20/25\n",
      "4484/4484 [==============================] - 5s 1ms/step - loss: 0.4832 - acc: 0.7547 - val_loss: 0.7743 - val_acc: 0.5927\n",
      "Epoch 21/25\n",
      "4484/4484 [==============================] - 5s 1ms/step - loss: 0.4652 - acc: 0.7665 - val_loss: 0.7861 - val_acc: 0.6070\n",
      "Epoch 22/25\n",
      "4484/4484 [==============================] - 5s 1ms/step - loss: 0.4521 - acc: 0.7772 - val_loss: 0.7763 - val_acc: 0.6078\n",
      "Epoch 23/25\n",
      "4484/4484 [==============================] - 5s 1ms/step - loss: 0.4311 - acc: 0.7841 - val_loss: 0.8751 - val_acc: 0.5722\n",
      "Epoch 24/25\n",
      "4484/4484 [==============================] - 5s 1ms/step - loss: 0.4273 - acc: 0.8022 - val_loss: 0.8915 - val_acc: 0.5829\n",
      "Epoch 25/25\n",
      "4484/4484 [==============================] - 5s 1ms/step - loss: 0.4150 - acc: 0.7973 - val_loss: 0.8424 - val_acc: 0.6070\n",
      "Accuracy: 60.70%\n"
     ]
    }
   ],
   "source": [
    "# fit and run our model\n",
    "model.fit(X_train, y_train, validation_data=(X_test, y_test), nb_epoch=epochs, batch_size=64)\n",
    "\n",
    "# final evaluation of the model\n",
    "scores = model.evaluate(X_test, y_test, verbose=0)\n",
    "print(\"Accuracy: %.2f%%\" % (scores[1]*100))"
   ]
  },
  {
   "cell_type": "code",
   "execution_count": null,
   "metadata": {},
   "outputs": [],
   "source": []
  }
 ],
 "metadata": {
  "kernelspec": {
   "display_name": "Python 3",
   "language": "python",
   "name": "python3"
  },
  "language_info": {
   "codemirror_mode": {
    "name": "ipython",
    "version": 3
   },
   "file_extension": ".py",
   "mimetype": "text/x-python",
   "name": "python",
   "nbconvert_exporter": "python",
   "pygments_lexer": "ipython3",
   "version": "3.5.5"
  }
 },
 "nbformat": 4,
 "nbformat_minor": 2
}
